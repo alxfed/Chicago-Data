{
 "cells": [
  {
   "cell_type": "markdown",
   "metadata": {},
   "source": [
    "The python library for Socrata\n",
    "The python library with documentation is located here: https://github.com/xmun0x/sodapy\n",
    "\n",
    "installation: python -m pip install sodapy"
   ]
  },
  {
   "cell_type": "markdown",
   "metadata": {},
   "source": [
    "Here I want to try simple queries to Chicago datasets with the help of this library"
   ]
  },
  {
   "cell_type": "code",
   "execution_count": 14,
   "metadata": {},
   "outputs": [
    {
     "name": "stderr",
     "output_type": "stream",
     "text": [
      "WARNING:root:Requests made without an app_token will be subject to strict throttling limits.\n"
     ]
    }
   ],
   "source": [
    "# Import from the library\n",
    "from sodapy import Socrata\n",
    "\n",
    "# The complete request is:\n",
    "#\n",
    "# client = Socrata(\"sandbox.demo.socrata.com\", \n",
    "#     \"FakeAppToken\", \n",
    "#     username=\"fakeuser@somedomain.com\", \n",
    "#     password=\"ndKS92mS01msjJKs\")\n",
    "#\n",
    "# ... but username and password are only necessary for uploads and deletions\n",
    "\n",
    "# in other situations it's just:\n",
    "client = Socrata(\"data.cityofchicago.org\", None)  # No token, replace None with it(in quotes)\n",
    "\n",
    "# reading is simple\n",
    "# client.get(\"nimj-3ivp\", \n",
    "#     where=\"depth > 300\", \n",
    "#     order=\"magnitude DESC\", \n",
    "#     exclude_system_fields=False)\n",
    "\n",
    "df = client.get(\"77jv-5zb8\", where=\"station_name=\\\"Foster Weather Station\\\"\")\n",
    "\n",
    "# be polite and turn of the lite when you are leaving\n",
    "client.close()\n",
    "\n",
    "# this is a full-blown client with authentication and everything, I'm not sure it is \n",
    "# necessary, simple read_json into pandas must be enough"
   ]
  },
  {
   "cell_type": "markdown",
   "metadata": {},
   "source": [
    "Works"
   ]
  },
  {
   "cell_type": "markdown",
   "metadata": {
    "collapsed": true
   },
   "source": [
    "Another path is to use urllib and pandas:"
   ]
  },
  {
   "cell_type": "code",
   "execution_count": 9,
   "metadata": {},
   "outputs": [
    {
     "ename": "SyntaxError",
     "evalue": "invalid syntax (<ipython-input-9-dd7c95812555>, line 9)",
     "output_type": "error",
     "traceback": [
      "\u001b[1;36m  File \u001b[1;32m\"<ipython-input-9-dd7c95812555>\"\u001b[1;36m, line \u001b[1;32m9\u001b[0m\n\u001b[1;33m    urlpa.urlencode(\"$where=station_name=Foster Weather Station\")\u001b[0m\n\u001b[1;37m        ^\u001b[0m\n\u001b[1;31mSyntaxError\u001b[0m\u001b[1;31m:\u001b[0m invalid syntax\n"
     ]
    }
   ],
   "source": [
    "import numpy as np\n",
    "import pandas as pd\n",
    "import urllib.parse as urlpa\n",
    "\n",
    "# urllib.parse.urlencode() is supposed to escape all of our query\n",
    "# properly\n",
    "\n",
    "query = (\"https://data.cityofchicago.org/resource/77jv-5zb8.json?\")\n",
    "\n",
    "df = pd.read_json(query)"
   ]
  },
  {
   "cell_type": "code",
   "execution_count": 13,
   "metadata": {},
   "outputs": [
    {
     "data": {
      "text/html": [
       "<div>\n",
       "<style>\n",
       "    .dataframe thead tr:only-child th {\n",
       "        text-align: right;\n",
       "    }\n",
       "\n",
       "    .dataframe thead th {\n",
       "        text-align: left;\n",
       "    }\n",
       "\n",
       "    .dataframe tbody tr th {\n",
       "        vertical-align: top;\n",
       "    }\n",
       "</style>\n",
       "<table border=\"1\" class=\"dataframe\">\n",
       "  <thead>\n",
       "    <tr style=\"text-align: right;\">\n",
       "      <th></th>\n",
       "      <th>air_temperature</th>\n",
       "      <th>barometric_pressure</th>\n",
       "      <th>battery_life</th>\n",
       "      <th>heading</th>\n",
       "      <th>humidity</th>\n",
       "      <th>interval_rain</th>\n",
       "      <th>maximum_wind_speed</th>\n",
       "      <th>measurement_id</th>\n",
       "      <th>measurement_timestamp</th>\n",
       "      <th>measurement_timestamp_label</th>\n",
       "      <th>precipitation_type</th>\n",
       "      <th>rain_intensity</th>\n",
       "      <th>solar_radiation</th>\n",
       "      <th>station_name</th>\n",
       "      <th>total_rain</th>\n",
       "      <th>wet_bulb_temperature</th>\n",
       "      <th>wind_direction</th>\n",
       "      <th>wind_speed</th>\n",
       "    </tr>\n",
       "  </thead>\n",
       "  <tbody>\n",
       "    <tr>\n",
       "      <th>0</th>\n",
       "      <td>3.10</td>\n",
       "      <td>996.2</td>\n",
       "      <td>11.9</td>\n",
       "      <td>353.0</td>\n",
       "      <td>50</td>\n",
       "      <td>0.0</td>\n",
       "      <td>7.4</td>\n",
       "      <td>63rdStreetWeatherStation201702011600</td>\n",
       "      <td>2017-02-01T16:00:00.000</td>\n",
       "      <td>02/01/2017 4:00 PM</td>\n",
       "      <td>0.0</td>\n",
       "      <td>0.0</td>\n",
       "      <td>198</td>\n",
       "      <td>63rd Street Weather Station</td>\n",
       "      <td>15.2</td>\n",
       "      <td>-0.2</td>\n",
       "      <td>294</td>\n",
       "      <td>4.6</td>\n",
       "    </tr>\n",
       "    <tr>\n",
       "      <th>1</th>\n",
       "      <td>2.17</td>\n",
       "      <td>995.6</td>\n",
       "      <td>15.2</td>\n",
       "      <td>NaN</td>\n",
       "      <td>44</td>\n",
       "      <td>0.0</td>\n",
       "      <td>6.1</td>\n",
       "      <td>FosterWeatherStation201702011600</td>\n",
       "      <td>2017-02-01T16:00:00.000</td>\n",
       "      <td>02/01/2017 4:00 PM</td>\n",
       "      <td>NaN</td>\n",
       "      <td>NaN</td>\n",
       "      <td>0</td>\n",
       "      <td>Foster Weather Station</td>\n",
       "      <td>NaN</td>\n",
       "      <td>NaN</td>\n",
       "      <td>299</td>\n",
       "      <td>5.0</td>\n",
       "    </tr>\n",
       "    <tr>\n",
       "      <th>2</th>\n",
       "      <td>3.60</td>\n",
       "      <td>996.4</td>\n",
       "      <td>12.0</td>\n",
       "      <td>0.0</td>\n",
       "      <td>45</td>\n",
       "      <td>0.0</td>\n",
       "      <td>4.5</td>\n",
       "      <td>OakStreetWeatherStation201702011600</td>\n",
       "      <td>2017-02-01T16:00:00.000</td>\n",
       "      <td>02/01/2017 4:00 PM</td>\n",
       "      <td>0.0</td>\n",
       "      <td>0.0</td>\n",
       "      <td>44</td>\n",
       "      <td>Oak Street Weather Station</td>\n",
       "      <td>205.0</td>\n",
       "      <td>-0.2</td>\n",
       "      <td>291</td>\n",
       "      <td>1.8</td>\n",
       "    </tr>\n",
       "  </tbody>\n",
       "</table>\n",
       "</div>"
      ],
      "text/plain": [
       "   air_temperature  barometric_pressure  battery_life  heading  humidity  \\\n",
       "0             3.10                996.2          11.9    353.0        50   \n",
       "1             2.17                995.6          15.2      NaN        44   \n",
       "2             3.60                996.4          12.0      0.0        45   \n",
       "\n",
       "   interval_rain  maximum_wind_speed                        measurement_id  \\\n",
       "0            0.0                 7.4  63rdStreetWeatherStation201702011600   \n",
       "1            0.0                 6.1      FosterWeatherStation201702011600   \n",
       "2            0.0                 4.5   OakStreetWeatherStation201702011600   \n",
       "\n",
       "     measurement_timestamp measurement_timestamp_label  precipitation_type  \\\n",
       "0  2017-02-01T16:00:00.000          02/01/2017 4:00 PM                 0.0   \n",
       "1  2017-02-01T16:00:00.000          02/01/2017 4:00 PM                 NaN   \n",
       "2  2017-02-01T16:00:00.000          02/01/2017 4:00 PM                 0.0   \n",
       "\n",
       "   rain_intensity  solar_radiation                 station_name  total_rain  \\\n",
       "0             0.0              198  63rd Street Weather Station        15.2   \n",
       "1             NaN                0       Foster Weather Station         NaN   \n",
       "2             0.0               44   Oak Street Weather Station       205.0   \n",
       "\n",
       "   wet_bulb_temperature  wind_direction  wind_speed  \n",
       "0                  -0.2             294         4.6  \n",
       "1                   NaN             299         5.0  \n",
       "2                  -0.2             291         1.8  "
      ]
     },
     "execution_count": 13,
     "metadata": {},
     "output_type": "execute_result"
    }
   ],
   "source": [
    "df.head(3)"
   ]
  },
  {
   "cell_type": "markdown",
   "metadata": {},
   "source": [
    "simply invoke the Pandas read_csv(...) or read_json(...) methods without escaping the URLs.\n",
    "\n",
    "Unfortunately, this doesn’t work:\n",
    "\n",
    "pd.read_csv('https://data.cityofchicago.org/resource/cwig-ma7x.csv?$group=results&$select=results, count(*) as total&$where=inspection_date > \"2017-01-01\"')\n",
    "\n",
    "What does work is manually escaping the spaces:\n",
    "\n",
    "pd.read_csv('https://data.cityofchicago.org/resource/cwig-ma7x.csv?$group=results&$select=results,%20count(*)%20as%20total&$where=inspection_date>\"2017-01-01\"')\n"
   ]
  },
  {
   "cell_type": "code",
   "execution_count": null,
   "metadata": {
    "collapsed": true
   },
   "outputs": [],
   "source": []
  }
 ],
 "metadata": {
  "kernelspec": {
   "display_name": "Python 3",
   "language": "python",
   "name": "python3"
  },
  "language_info": {
   "codemirror_mode": {
    "name": "ipython",
    "version": 3
   },
   "file_extension": ".py",
   "mimetype": "text/x-python",
   "name": "python",
   "nbconvert_exporter": "python",
   "pygments_lexer": "ipython3",
   "version": "3.6.1"
  }
 },
 "nbformat": 4,
 "nbformat_minor": 2
}
